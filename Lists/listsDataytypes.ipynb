{
 "cells": [
  {
   "cell_type": "code",
   "execution_count": 1,
   "id": "38d09ba1",
   "metadata": {},
   "outputs": [
    {
     "data": {
      "text/plain": [
       "['H', 'e', 'l', 'l', 'o', '!']"
      ]
     },
     "execution_count": 1,
     "metadata": {},
     "output_type": "execute_result"
    }
   ],
   "source": [
    "list('Hello!')"
   ]
  },
  {
   "cell_type": "code",
   "execution_count": 2,
   "id": "ba752d48",
   "metadata": {},
   "outputs": [
    {
     "data": {
      "text/plain": [
       "['Snowboard', 'Boots', 'Helmet']"
      ]
     },
     "execution_count": 2,
     "metadata": {},
     "output_type": "execute_result"
    }
   ],
   "source": [
    "item_list = ['Snowboard', 'Boots', 'Helmet', 'Goggles', 'Bindings']\n",
    "item_list[:3]"
   ]
  },
  {
   "cell_type": "code",
   "execution_count": 3,
   "id": "0c2072b0",
   "metadata": {},
   "outputs": [
    {
     "data": {
      "text/plain": [
       "['Snowboard', 'Helmet', 'Bindings']"
      ]
     },
     "execution_count": 3,
     "metadata": {},
     "output_type": "execute_result"
    }
   ],
   "source": [
    "item_list[::2] #grabs every other element in the list"
   ]
  },
  {
   "cell_type": "code",
   "execution_count": 4,
   "id": "9636b167",
   "metadata": {},
   "outputs": [
    {
     "data": {
      "text/plain": [
       "['Helmet', 'Goggles']"
      ]
     },
     "execution_count": 4,
     "metadata": {},
     "output_type": "execute_result"
    }
   ],
   "source": [
    "item_list[2:4]"
   ]
  },
  {
   "cell_type": "code",
   "execution_count": 5,
   "id": "8814d6bf",
   "metadata": {},
   "outputs": [
    {
     "data": {
      "text/plain": [
       "False"
      ]
     },
     "execution_count": 5,
     "metadata": {},
     "output_type": "execute_result"
    }
   ],
   "source": [
    "'Skis' in item_list"
   ]
  },
  {
   "cell_type": "code",
   "execution_count": 6,
   "id": "72bf456c",
   "metadata": {},
   "outputs": [
    {
     "name": "stdout",
     "output_type": "stream",
     "text": [
      "Snowboard Boots Helmet Goggles Bindings\n"
     ]
    }
   ],
   "source": [
    "s, b, h, g, bi = item_list #s, b, h, g, bi are now string variables\n",
    "print(s,b,h,g,bi)"
   ]
  },
  {
   "cell_type": "code",
   "execution_count": 7,
   "id": "ebfabfe0",
   "metadata": {},
   "outputs": [
    {
     "data": {
      "text/plain": [
       "['C00001', 'C00003', 'C00005', 'C000010']"
      ]
     },
     "execution_count": 7,
     "metadata": {},
     "output_type": "execute_result"
    }
   ],
   "source": [
    "customer_ids = ['C00001', 'C00003', 'C00005', 'C000010']\n",
    "customer_ids"
   ]
  },
  {
   "cell_type": "code",
   "execution_count": 8,
   "id": "224bead9",
   "metadata": {},
   "outputs": [
    {
     "data": {
      "text/plain": [
       "True"
      ]
     },
     "execution_count": 8,
     "metadata": {},
     "output_type": "execute_result"
    }
   ],
   "source": [
    "'C00004' not in customer_ids"
   ]
  },
  {
   "cell_type": "code",
   "execution_count": 9,
   "id": "f2984405",
   "metadata": {},
   "outputs": [
    {
     "data": {
      "text/plain": [
       "'C00005'"
      ]
     },
     "execution_count": 9,
     "metadata": {},
     "output_type": "execute_result"
    }
   ],
   "source": [
    "customer_ids[2]"
   ]
  },
  {
   "cell_type": "code",
   "execution_count": 10,
   "id": "772e77c0",
   "metadata": {},
   "outputs": [
    {
     "data": {
      "text/plain": [
       "5"
      ]
     },
     "execution_count": 10,
     "metadata": {},
     "output_type": "execute_result"
    }
   ],
   "source": [
    "int(customer_ids[2][-5:]) #last five elements of customer_ids"
   ]
  },
  {
   "cell_type": "code",
   "execution_count": 11,
   "id": "57cd2f54",
   "metadata": {},
   "outputs": [
    {
     "data": {
      "text/plain": [
       "['C00001', 'C00003']"
      ]
     },
     "execution_count": 11,
     "metadata": {},
     "output_type": "execute_result"
    }
   ],
   "source": [
    "customer_ids[:2]"
   ]
  },
  {
   "cell_type": "code",
   "execution_count": 12,
   "id": "535dbda8",
   "metadata": {},
   "outputs": [
    {
     "data": {
      "text/plain": [
       "['Coat', 'Backpack', 'Snowpants']"
      ]
     },
     "execution_count": 12,
     "metadata": {},
     "output_type": "execute_result"
    }
   ],
   "source": [
    "new_items = ['Coat', 'Backpack', 'Snowpants']\n",
    "new_items"
   ]
  },
  {
   "cell_type": "code",
   "execution_count": 13,
   "id": "359c5c3e",
   "metadata": {},
   "outputs": [
    {
     "data": {
      "text/plain": [
       "['Coat', 'Gloves', 'Snowpants']"
      ]
     },
     "execution_count": 13,
     "metadata": {},
     "output_type": "execute_result"
    }
   ],
   "source": [
    "new_items[1] = 'Gloves'\n",
    "new_items"
   ]
  },
  {
   "cell_type": "code",
   "execution_count": 14,
   "id": "7fb09515",
   "metadata": {},
   "outputs": [
    {
     "data": {
      "text/plain": [
       "['Snowboard', 'Boots', 'Helmet', 'Goggles', 'Bindings']"
      ]
     },
     "execution_count": 14,
     "metadata": {},
     "output_type": "execute_result"
    }
   ],
   "source": [
    "item_list"
   ]
  },
  {
   "cell_type": "code",
   "execution_count": 15,
   "id": "48ef82ee",
   "metadata": {},
   "outputs": [
    {
     "name": "stdout",
     "output_type": "stream",
     "text": [
      "['Snowboard', 'Boots', 'Helmet', 'Goggles', 'Bindings', 'Coat']\n"
     ]
    }
   ],
   "source": [
    "item_list.append('Coat')\n",
    "print(item_list)"
   ]
  },
  {
   "cell_type": "code",
   "execution_count": 16,
   "id": "ee899cb1",
   "metadata": {},
   "outputs": [
    {
     "data": {
      "text/plain": [
       "['Snowboard', 'Boots', 'Helmet', 'Skis', 'Goggles', 'Bindings', 'Coat']"
      ]
     },
     "execution_count": 16,
     "metadata": {},
     "output_type": "execute_result"
    }
   ],
   "source": [
    "item_list.insert(3, 'Skis')\n",
    "item_list"
   ]
  },
  {
   "cell_type": "code",
   "execution_count": null,
   "id": "f66951d0",
   "metadata": {},
   "outputs": [],
   "source": []
  }
 ],
 "metadata": {
  "kernelspec": {
   "display_name": "Python 3 (ipykernel)",
   "language": "python",
   "name": "python3"
  },
  "language_info": {
   "codemirror_mode": {
    "name": "ipython",
    "version": 3
   },
   "file_extension": ".py",
   "mimetype": "text/x-python",
   "name": "python",
   "nbconvert_exporter": "python",
   "pygments_lexer": "ipython3",
   "version": "3.11.1"
  }
 },
 "nbformat": 4,
 "nbformat_minor": 5
}
