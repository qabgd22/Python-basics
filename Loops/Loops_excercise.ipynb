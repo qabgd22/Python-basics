{
 "cells": [
  {
   "cell_type": "code",
   "execution_count": 1,
   "id": "31af9e7e",
   "metadata": {},
   "outputs": [
    {
     "name": "stdout",
     "output_type": "stream",
     "text": [
      "T\n",
      "e\n",
      "s\n",
      "t\n",
      "i\n",
      "n\n",
      "g\n"
     ]
    }
   ],
   "source": [
    "for item in 'Testing':\n",
    "    #print(item, end ='') #print in one line\n",
    "    print(item)"
   ]
  },
  {
   "cell_type": "code",
   "execution_count": 2,
   "id": "6575b18f",
   "metadata": {},
   "outputs": [
    {
     "name": "stdout",
     "output_type": "stream",
     "text": [
      "[5.27, 8.79, 17.59, 21.99, 87.91]\n"
     ]
    }
   ],
   "source": [
    "exchange_rate = 0.88\n",
    "\n",
    "usd_list = [5.99, 9.99, 19.99, 24.99, 99.9]\n",
    "euro_list = []\n",
    "\n",
    "for price in usd_list:\n",
    "    euro_list.append(round(price * exchange_rate, 2))\n",
    "    \n",
    "print(euro_list)"
   ]
  },
  {
   "cell_type": "code",
   "execution_count": 3,
   "id": "783ea383",
   "metadata": {},
   "outputs": [],
   "source": [
    "customer_ratings = [\n",
    "    '5 stars', '3 stars', '5 stars', '4 stars', '4 stars',\n",
    "    '1 star', '4 stars', '5 stars', '2 stars', '5 stars'   \n",
    "]"
   ]
  },
  {
   "cell_type": "code",
   "execution_count": 4,
   "id": "903867c6",
   "metadata": {},
   "outputs": [
    {
     "data": {
      "text/plain": [
       "5"
      ]
     },
     "execution_count": 4,
     "metadata": {},
     "output_type": "execute_result"
    }
   ],
   "source": [
    "rating = int(customer_ratings[0][0])\n",
    "\n",
    "rating"
   ]
  },
  {
   "cell_type": "code",
   "execution_count": 5,
   "id": "177134d8",
   "metadata": {},
   "outputs": [
    {
     "data": {
      "text/plain": [
       "[5, 3, 5, 4, 4, 1, 4, 5, 2, 5]"
      ]
     },
     "execution_count": 5,
     "metadata": {},
     "output_type": "execute_result"
    }
   ],
   "source": [
    "numeric_ratings = []\n",
    "\n",
    "for rating in customer_ratings:\n",
    "    numeric_ratings.append(int(rating[0]))\n",
    "    \n",
    "numeric_ratings"
   ]
  },
  {
   "cell_type": "code",
   "execution_count": 6,
   "id": "2cbdcfd4",
   "metadata": {},
   "outputs": [
    {
     "data": {
      "text/plain": [
       "3.8"
      ]
     },
     "execution_count": 6,
     "metadata": {},
     "output_type": "execute_result"
    }
   ],
   "source": [
    "sum(numeric_ratings)/len(numeric_ratings)"
   ]
  },
  {
   "cell_type": "code",
   "execution_count": 7,
   "id": "3ee852d3",
   "metadata": {},
   "outputs": [
    {
     "name": "stdout",
     "output_type": "stream",
     "text": [
      "[661.84, 1103.8, 2208.7, 2761.15, 11037.95]\n"
     ]
    }
   ],
   "source": [
    "exchange_rate = 110.49\n",
    "\n",
    "usd_list = [5.99, 9.99, 19.99, 24.99, 99.9]\n",
    "rsd_list = []\n",
    "\n",
    "for i in range (len(usd_list)):\n",
    "    rsd_list.append(round(usd_list[i] * exchange_rate, 2))\n",
    "    \n",
    "print(rsd_list)"
   ]
  },
  {
   "cell_type": "code",
   "execution_count": 8,
   "id": "ef40c099",
   "metadata": {},
   "outputs": [
    {
     "data": {
      "text/plain": [
       "[5.27, 8.79, 17.59, 21.99, 87.91]"
      ]
     },
     "execution_count": 8,
     "metadata": {},
     "output_type": "execute_result"
    }
   ],
   "source": [
    "euro_list"
   ]
  },
  {
   "cell_type": "code",
   "execution_count": 9,
   "id": "0547bf38",
   "metadata": {},
   "outputs": [
    {
     "name": "stdout",
     "output_type": "stream",
     "text": [
      "The snowboard costs 5.27 euros.\n",
      "The boots costs 8.79 euros.\n",
      "The helmet costs 17.59 euros.\n",
      "The goggles costs 21.99 euros.\n",
      "The bindings costs 88.91 euros.\n"
     ]
    }
   ],
   "source": [
    "euro_list = [5.27, 8.79, 17.59, 21.99, 88.91]\n",
    "item_list = ['Snowboard', 'Boots', 'Helmet', 'Goggles', 'Bindings']\n",
    "\n",
    "for i in range(len(item_list)):\n",
    "    print(f\"The {item_list[i].lower()} costs {euro_list[i]} euros.\")"
   ]
  },
  {
   "cell_type": "code",
   "execution_count": 10,
   "id": "a8444d69",
   "metadata": {},
   "outputs": [
    {
     "name": "stdout",
     "output_type": "stream",
     "text": [
      "0 5.27\n",
      "1 8.79\n",
      "2 17.59\n",
      "3 21.99\n",
      "4 88.91\n"
     ]
    }
   ],
   "source": [
    "for index, element in enumerate(euro_list):\n",
    "    print(index, element)"
   ]
  },
  {
   "cell_type": "code",
   "execution_count": 11,
   "id": "9a62e8d7",
   "metadata": {},
   "outputs": [
    {
     "name": "stdout",
     "output_type": "stream",
     "text": [
      "Snowboard 5.27\n",
      "Boots 8.79\n",
      "Helmet 17.59\n",
      "Goggles 21.99\n",
      "Bindings 88.91\n"
     ]
    }
   ],
   "source": [
    "for index, element in enumerate(euro_list):\n",
    "    print(item_list[index], element)"
   ]
  },
  {
   "cell_type": "code",
   "execution_count": null,
   "id": "dc150ebe",
   "metadata": {},
   "outputs": [],
   "source": []
  }
 ],
 "metadata": {
  "kernelspec": {
   "display_name": "Python 3",
   "language": "python",
   "name": "python3"
  },
  "language_info": {
   "codemirror_mode": {
    "name": "ipython",
    "version": 3
   },
   "file_extension": ".py",
   "mimetype": "text/x-python",
   "name": "python",
   "nbconvert_exporter": "python",
   "pygments_lexer": "ipython3",
   "version": "3.9.2"
  }
 },
 "nbformat": 4,
 "nbformat_minor": 5
}
