{
 "cells": [
  {
   "cell_type": "code",
   "execution_count": 1,
   "id": "1f45c2ca",
   "metadata": {},
   "outputs": [],
   "source": [
    "customer_ratings = [\n",
    "    '5 stars', '3 stars', '5 stars', '1 star', '4 stars',\n",
    "    '1 star', '4 stars', '5 stars', '2 stars', '1 star'   \n",
    "]"
   ]
  },
  {
   "cell_type": "code",
   "execution_count": 2,
   "id": "d6fd1797",
   "metadata": {},
   "outputs": [
    {
     "name": "stdout",
     "output_type": "stream",
     "text": [
      "1\n",
      "2\n",
      "3\n"
     ]
    },
    {
     "data": {
      "text/plain": [
       "['5 stars', '3 stars', '5 stars', '4 stars', '4 stars', '5 stars', '2 stars']"
      ]
     },
     "execution_count": 2,
     "metadata": {},
     "output_type": "execute_result"
    }
   ],
   "source": [
    "onestar_counter = 0\n",
    "\n",
    "while '1 star' in customer_ratings:\n",
    "    customer_ratings.remove('1 star')\n",
    "    onestar_counter += 1\n",
    "    print(onestar_counter)\n",
    "    \n",
    "customer_ratings"
   ]
  },
  {
   "cell_type": "code",
   "execution_count": 3,
   "id": "7c2e5e28",
   "metadata": {},
   "outputs": [],
   "source": [
    "current_inventory = 686\n",
    "monthly_sales = 84\n",
    "month = 0"
   ]
  },
  {
   "cell_type": "code",
   "execution_count": 4,
   "id": "a88255c9",
   "metadata": {},
   "outputs": [
    {
     "name": "stdout",
     "output_type": "stream",
     "text": [
      "At the end of month 1, 602 pair of skis is the remaining inventory.\n",
      "At the end of month 2, 518 pair of skis is the remaining inventory.\n",
      "At the end of month 3, 434 pair of skis is the remaining inventory.\n",
      "At the end of month 4, 350 pair of skis is the remaining inventory.\n",
      "At the end of month 5, 266 pair of skis is the remaining inventory.\n",
      "At the end of month 6, 182 pair of skis is the remaining inventory.\n",
      "At the end of month 7, 98 pair of skis is the remaining inventory.\n",
      "At the end of month 8, 14 pair of skis is the remaining inventory.\n",
      "At the end of month 9, -70 pair of skis is the remaining inventory.\n"
     ]
    }
   ],
   "source": [
    "while current_inventory > 0:\n",
    "    current_inventory -= monthly_sales\n",
    "    month += 1\n",
    "    print(f'At the end of month {month}, {current_inventory} pair of skis is the remaining inventory.')"
   ]
  },
  {
   "cell_type": "code",
   "execution_count": 5,
   "id": "2ad1dd0b",
   "metadata": {},
   "outputs": [],
   "source": [
    "items = ['skis', 'snowboards', 'googgles', 'boots']\n",
    "\n",
    "item_reviews = [\n",
    "    ['5 star', '1 star', '3 stars'],\n",
    "    ['5 stars', '4 stars'],\n",
    "    ['4 stars', '2 stars'],\n",
    "    ['1 star']\n",
    "    \n",
    "]"
   ]
  },
  {
   "cell_type": "code",
   "execution_count": 6,
   "id": "1e59a66e",
   "metadata": {},
   "outputs": [
    {
     "data": {
      "text/plain": [
       "[[5, 1, 3], [5, 4], [4, 2], [1]]"
      ]
     },
     "execution_count": 6,
     "metadata": {},
     "output_type": "execute_result"
    }
   ],
   "source": [
    "items_reviews_numeric = []\n",
    "\n",
    "for item in item_reviews:\n",
    "    integer_ratings = []\n",
    "    for review in item:\n",
    "        integer_rating = int(review[0])\n",
    "        integer_ratings.append(integer_rating)\n",
    "    items_reviews_numeric.append(integer_ratings)\n",
    "    \n",
    "items_reviews_numeric"
   ]
  },
  {
   "cell_type": "code",
   "execution_count": 7,
   "id": "13eace15",
   "metadata": {},
   "outputs": [
    {
     "name": "stdout",
     "output_type": "stream",
     "text": [
      "3.0\n",
      "4.5\n",
      "3.0\n",
      "1.0\n"
     ]
    }
   ],
   "source": [
    "for item in items_reviews_numeric:\n",
    "    print(sum(item)/len(item))"
   ]
  },
  {
   "cell_type": "code",
   "execution_count": null,
   "id": "d5941aae",
   "metadata": {},
   "outputs": [],
   "source": []
  }
 ],
 "metadata": {
  "kernelspec": {
   "display_name": "Python 3",
   "language": "python",
   "name": "python3"
  },
  "language_info": {
   "codemirror_mode": {
    "name": "ipython",
    "version": 3
   },
   "file_extension": ".py",
   "mimetype": "text/x-python",
   "name": "python",
   "nbconvert_exporter": "python",
   "pygments_lexer": "ipython3",
   "version": "3.9.2"
  }
 },
 "nbformat": 4,
 "nbformat_minor": 5
}
