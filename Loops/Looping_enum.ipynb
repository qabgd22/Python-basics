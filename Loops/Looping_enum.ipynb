{
 "cells": [
  {
   "cell_type": "code",
   "execution_count": 1,
   "id": "bfc4d836",
   "metadata": {},
   "outputs": [],
   "source": [
    "item_names = [\n",
    "    'Keychain', 'Helmet', 'Snowboard',\n",
    "    'Ski Poles', 'Sweatshirt', 'Boots'\n",
    "]\n",
    "\n",
    "inventories = [10, 14, 10, 15, 8, 27]\n",
    "\n",
    "prices = [2.99, 99.99, 219.99, 89.99, 29.99, 9.99]"
   ]
  },
  {
   "cell_type": "code",
   "execution_count": 2,
   "id": "f1892b3b",
   "metadata": {},
   "outputs": [
    {
     "name": "stdout",
     "output_type": "stream",
     "text": [
      "0\n",
      "1\n",
      "2\n",
      "3\n",
      "4\n",
      "5\n"
     ]
    }
   ],
   "source": [
    "for i in range(len(inventories)):\n",
    "    print(i)"
   ]
  },
  {
   "cell_type": "code",
   "execution_count": 3,
   "id": "ea2132ab",
   "metadata": {},
   "outputs": [
    {
     "name": "stdout",
     "output_type": "stream",
     "text": [
      "29.9\n",
      "1399.86\n",
      "2199.9\n",
      "1349.85\n",
      "239.92\n",
      "269.73\n"
     ]
    }
   ],
   "source": [
    "for i in range(len(inventories)):\n",
    "    print(round(inventories[i] * prices[i], 2))"
   ]
  },
  {
   "cell_type": "code",
   "execution_count": 4,
   "id": "2cd294d0",
   "metadata": {},
   "outputs": [
    {
     "data": {
      "text/plain": [
       "[29.9, 1399.86, 2199.9, 1349.85, 239.92, 269.73]"
      ]
     },
     "execution_count": 4,
     "metadata": {},
     "output_type": "execute_result"
    }
   ],
   "source": [
    "product_values = []\n",
    "\n",
    "for i in range(len(inventories)):\n",
    "    product_values.append(round(inventories[i] * prices[i], 2))\n",
    "\n",
    "product_values"
   ]
  },
  {
   "cell_type": "code",
   "execution_count": 5,
   "id": "8c034fc6",
   "metadata": {},
   "outputs": [
    {
     "data": {
      "text/plain": [
       "5489.16"
      ]
     },
     "execution_count": 5,
     "metadata": {},
     "output_type": "execute_result"
    }
   ],
   "source": [
    "sum(product_values)"
   ]
  },
  {
   "cell_type": "markdown",
   "id": "7895581f",
   "metadata": {},
   "source": [
    "## Same example with enumerate function"
   ]
  },
  {
   "cell_type": "code",
   "execution_count": 6,
   "id": "4f443fbc",
   "metadata": {},
   "outputs": [
    {
     "name": "stdout",
     "output_type": "stream",
     "text": [
      "Total inventory value of the Keychain is $29.9.\n",
      "Total inventory value of the Helmet is $1399.86.\n",
      "Total inventory value of the Snowboard is $2199.9.\n",
      "Total inventory value of the Ski Poles is $1349.85.\n",
      "Total inventory value of the Sweatshirt is $239.92.\n",
      "Total inventory value of the Boots is $269.73.\n",
      "$5489.16\n"
     ]
    }
   ],
   "source": [
    "product_values = []\n",
    "\n",
    "for i, inventory in enumerate(inventories):\n",
    "    product_values.append(round(inventory * prices[i], 2))\n",
    "    print(f'Total inventory value of the {item_names[i]} is ${product_values[i]}.')\n",
    "\n",
    "product_values\n",
    "\n",
    "print('$' + str(sum(product_values)))"
   ]
  },
  {
   "cell_type": "code",
   "execution_count": null,
   "id": "3c74e53d",
   "metadata": {},
   "outputs": [],
   "source": []
  }
 ],
 "metadata": {
  "kernelspec": {
   "display_name": "Python 3",
   "language": "python",
   "name": "python3"
  },
  "language_info": {
   "codemirror_mode": {
    "name": "ipython",
    "version": 3
   },
   "file_extension": ".py",
   "mimetype": "text/x-python",
   "name": "python",
   "nbconvert_exporter": "python",
   "pygments_lexer": "ipython3",
   "version": "3.9.2"
  }
 },
 "nbformat": 4,
 "nbformat_minor": 5
}
