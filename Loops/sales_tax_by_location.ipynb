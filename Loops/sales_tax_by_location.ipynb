{
 "cells": [
  {
   "cell_type": "markdown",
   "id": "f008a864",
   "metadata": {},
   "source": [
    "# Sales Tax by Location\n",
    "\n",
    "    Sun Valley: 8%\n",
    "    Stowe: 6%\n",
    "    Mammoth: 7.75%"
   ]
  },
  {
   "cell_type": "code",
   "execution_count": 1,
   "id": "92112278",
   "metadata": {},
   "outputs": [],
   "source": [
    "subtotals = [\n",
    "    15.98, 899.97, 799.97, 117.96, 5.99, \n",
    "    599.99, 24.99, 1799.94, 99.99\n",
    "]"
   ]
  },
  {
   "cell_type": "code",
   "execution_count": 2,
   "id": "4f7db9ff",
   "metadata": {},
   "outputs": [],
   "source": [
    "location = [\n",
    "    'Sun Valley', 'Stowe', 'Mammoth', 'Stowe', 'Sun Valley', \n",
    "    'Mammoth', 'Mammoth', 'Mammoth', 'Sun Valley'\n",
    "]"
   ]
  },
  {
   "cell_type": "code",
   "execution_count": 3,
   "id": "ebb81a5a",
   "metadata": {},
   "outputs": [],
   "source": [
    "taxes = []\n",
    "totals = []\n",
    "\n",
    "for i, subtotal in enumerate(subtotals):\n",
    "    if location[i] == 'Sun Valley':\n",
    "        tax = round(subtotal * .08, 2)\n",
    "    elif location[i] == 'Stowe':\n",
    "        tax = round(subtotal * .06, 2)\n",
    "    else:\n",
    "        tax = round(subtotal * .0775, 2)\n",
    "    total = round(subtotal + tax, 2)\n",
    "    taxes.append(tax)\n",
    "    totals.append(total)\n",
    "     "
   ]
  },
  {
   "cell_type": "code",
   "execution_count": 4,
   "id": "1b9cdb14",
   "metadata": {},
   "outputs": [
    {
     "name": "stdout",
     "output_type": "stream",
     "text": [
      "[1.28, 54.0, 62.0, 7.08, 0.48, 46.5, 1.94, 139.5, 8.0]\n",
      "[17.26, 953.97, 861.97, 125.04, 6.47, 646.49, 26.93, 1939.44, 107.99]\n"
     ]
    }
   ],
   "source": [
    "print(taxes)\n",
    "print(totals)"
   ]
  }
 ],
 "metadata": {
  "kernelspec": {
   "display_name": "Python 3",
   "language": "python",
   "name": "python3"
  },
  "language_info": {
   "codemirror_mode": {
    "name": "ipython",
    "version": 3
   },
   "file_extension": ".py",
   "mimetype": "text/x-python",
   "name": "python",
   "nbconvert_exporter": "python",
   "pygments_lexer": "ipython3",
   "version": "3.9.2"
  }
 },
 "nbformat": 4,
 "nbformat_minor": 5
}
