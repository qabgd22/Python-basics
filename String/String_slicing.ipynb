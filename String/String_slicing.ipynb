{
 "cells": [
  {
   "cell_type": "code",
   "execution_count": 1,
   "id": "bafc24e0",
   "metadata": {},
   "outputs": [],
   "source": [
    "movie = \"It's a Mega Blockbuster!\""
   ]
  },
  {
   "cell_type": "code",
   "execution_count": 2,
   "id": "ccdd69b7",
   "metadata": {},
   "outputs": [
    {
     "data": {
      "text/plain": [
       "\"It's\""
      ]
     },
     "execution_count": 2,
     "metadata": {},
     "output_type": "execute_result"
    }
   ],
   "source": [
    "movie[:4]"
   ]
  },
  {
   "cell_type": "code",
   "execution_count": 3,
   "id": "dd999c72",
   "metadata": {},
   "outputs": [
    {
     "data": {
      "text/plain": [
       "'a Mega Blockbuster!'"
      ]
     },
     "execution_count": 3,
     "metadata": {},
     "output_type": "execute_result"
    }
   ],
   "source": [
    "movie[5:]"
   ]
  },
  {
   "cell_type": "code",
   "execution_count": 4,
   "id": "9ebd0ad6",
   "metadata": {},
   "outputs": [
    {
     "data": {
      "text/plain": [
       "'Is gBcue'"
      ]
     },
     "execution_count": 4,
     "metadata": {},
     "output_type": "execute_result"
    }
   ],
   "source": [
    "movie[::3]"
   ]
  },
  {
   "cell_type": "code",
   "execution_count": 5,
   "id": "ec62ecd7",
   "metadata": {},
   "outputs": [
    {
     "data": {
      "text/plain": [
       "\"!retsubkcolB ageM a s'tI\""
      ]
     },
     "execution_count": 5,
     "metadata": {},
     "output_type": "execute_result"
    }
   ],
   "source": [
    "movie[::-1]"
   ]
  },
  {
   "cell_type": "code",
   "execution_count": 6,
   "id": "5c99725f",
   "metadata": {},
   "outputs": [
    {
     "data": {
      "text/plain": [
       "'buster!'"
      ]
     },
     "execution_count": 6,
     "metadata": {},
     "output_type": "execute_result"
    }
   ],
   "source": [
    "movie[-7:]"
   ]
  },
  {
   "cell_type": "code",
   "execution_count": 7,
   "id": "f428e874",
   "metadata": {},
   "outputs": [
    {
     "data": {
      "text/plain": [
       "\"IT'S A MEGA BLOCKBUSTER!\""
      ]
     },
     "execution_count": 7,
     "metadata": {},
     "output_type": "execute_result"
    }
   ],
   "source": [
    "movie.upper()"
   ]
  },
  {
   "cell_type": "code",
   "execution_count": 8,
   "id": "aa2dc1f5",
   "metadata": {},
   "outputs": [
    {
     "data": {
      "text/plain": [
       "\"it's a mega blockbuster!\""
      ]
     },
     "execution_count": 8,
     "metadata": {},
     "output_type": "execute_result"
    }
   ],
   "source": [
    "movie.lower()"
   ]
  },
  {
   "cell_type": "code",
   "execution_count": 9,
   "id": "e55cf325",
   "metadata": {},
   "outputs": [
    {
     "data": {
      "text/plain": [
       "\"It's a Mega Blockbuster\""
      ]
     },
     "execution_count": 9,
     "metadata": {},
     "output_type": "execute_result"
    }
   ],
   "source": [
    "movie.strip('!')"
   ]
  },
  {
   "cell_type": "code",
   "execution_count": 10,
   "id": "57e78bf2",
   "metadata": {},
   "outputs": [
    {
     "data": {
      "text/plain": [
       "\"It's a Mega Blockbuster\""
      ]
     },
     "execution_count": 10,
     "metadata": {},
     "output_type": "execute_result"
    }
   ],
   "source": [
    "movie.rstrip('!')"
   ]
  },
  {
   "cell_type": "code",
   "execution_count": 11,
   "id": "b1a51c2c",
   "metadata": {},
   "outputs": [
    {
     "data": {
      "text/plain": [
       "\"It's a Mega Blockbuster!\""
      ]
     },
     "execution_count": 11,
     "metadata": {},
     "output_type": "execute_result"
    }
   ],
   "source": [
    "movie.lstrip('!')"
   ]
  },
  {
   "cell_type": "code",
   "execution_count": 12,
   "id": "4b9fc3ab",
   "metadata": {},
   "outputs": [
    {
     "data": {
      "text/plain": [
       "\"It's a Mega Blockbuster.\""
      ]
     },
     "execution_count": 12,
     "metadata": {},
     "output_type": "execute_result"
    }
   ],
   "source": [
    "movie.replace('!','.')"
   ]
  },
  {
   "cell_type": "code",
   "execution_count": 13,
   "id": "08a1c5d0",
   "metadata": {},
   "outputs": [
    {
     "data": {
      "text/plain": [
       "[\"It's\", 'a', 'Mega', 'Blockbuster!']"
      ]
     },
     "execution_count": 13,
     "metadata": {},
     "output_type": "execute_result"
    }
   ],
   "source": [
    "movie.split()"
   ]
  },
  {
   "cell_type": "code",
   "execution_count": 14,
   "id": "e7c9ace3",
   "metadata": {},
   "outputs": [
    {
     "data": {
      "text/plain": [
       "['It', 's a Mega Blockbuster!']"
      ]
     },
     "execution_count": 14,
     "metadata": {},
     "output_type": "execute_result"
    }
   ],
   "source": [
    "movie.split(\"'\")"
   ]
  },
  {
   "cell_type": "code",
   "execution_count": 15,
   "id": "ede3d013",
   "metadata": {},
   "outputs": [
    {
     "data": {
      "text/plain": [
       "[\"It's\", 'a', 'Mega', 'Blockbuster!']"
      ]
     },
     "execution_count": 15,
     "metadata": {},
     "output_type": "execute_result"
    }
   ],
   "source": [
    "word_list = movie.split()\n",
    "word_list"
   ]
  },
  {
   "cell_type": "code",
   "execution_count": 16,
   "id": "890522dc",
   "metadata": {},
   "outputs": [
    {
     "data": {
      "text/plain": [
       "\"It's a Mega Blockbuster!\""
      ]
     },
     "execution_count": 16,
     "metadata": {},
     "output_type": "execute_result"
    }
   ],
   "source": [
    "' '.join(word_list)"
   ]
  },
  {
   "cell_type": "code",
   "execution_count": 17,
   "id": "a00f5c95",
   "metadata": {},
   "outputs": [
    {
     "data": {
      "text/plain": [
       "\"It's,a,Mega,Blockbuster!\""
      ]
     },
     "execution_count": 17,
     "metadata": {},
     "output_type": "execute_result"
    }
   ],
   "source": [
    "','.join(word_list)"
   ]
  },
  {
   "cell_type": "code",
   "execution_count": 18,
   "id": "76fdd6f5",
   "metadata": {},
   "outputs": [
    {
     "data": {
      "text/plain": [
       "'its a mega blockbuster'"
      ]
     },
     "execution_count": 18,
     "metadata": {},
     "output_type": "execute_result"
    }
   ],
   "source": [
    "movie.lower().replace(\"'\",'').rstrip('!')"
   ]
  },
  {
   "cell_type": "code",
   "execution_count": null,
   "id": "d95ae472",
   "metadata": {},
   "outputs": [],
   "source": []
  }
 ],
 "metadata": {
  "kernelspec": {
   "display_name": "Python 3 (ipykernel)",
   "language": "python",
   "name": "python3"
  },
  "language_info": {
   "codemirror_mode": {
    "name": "ipython",
    "version": 3
   },
   "file_extension": ".py",
   "mimetype": "text/x-python",
   "name": "python",
   "nbconvert_exporter": "python",
   "pygments_lexer": "ipython3",
   "version": "3.11.1"
  }
 },
 "nbformat": 4,
 "nbformat_minor": 5
}
