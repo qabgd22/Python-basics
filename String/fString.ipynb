{
 "cells": [
  {
   "cell_type": "code",
   "execution_count": 1,
   "id": "497a6b5a",
   "metadata": {},
   "outputs": [],
   "source": [
    "movie = 'A Mega Blockbuster IV '"
   ]
  },
  {
   "cell_type": "code",
   "execution_count": 2,
   "id": "1b69fd21",
   "metadata": {},
   "outputs": [
    {
     "name": "stdout",
     "output_type": "stream",
     "text": [
      "My favourite movie is:A MEGA BLOCKBUSTER IV A MEGA BLOCKBUSTER IV A MEGA BLOCKBUSTER IV !\n"
     ]
    }
   ],
   "source": [
    "print(f'My favourite movie is:{movie.upper() * 3}!')"
   ]
  },
  {
   "cell_type": "code",
   "execution_count": null,
   "id": "43354e86",
   "metadata": {},
   "outputs": [],
   "source": []
  }
 ],
 "metadata": {
  "kernelspec": {
   "display_name": "Python 3",
   "language": "python",
   "name": "python3"
  },
  "language_info": {
   "codemirror_mode": {
    "name": "ipython",
    "version": 3
   },
   "file_extension": ".py",
   "mimetype": "text/x-python",
   "name": "python",
   "nbconvert_exporter": "python",
   "pygments_lexer": "ipython3",
   "version": "3.11.1"
  },
  "vscode": {
   "interpreter": {
    "hash": "5ffd7eb2cebf9ac436b5021ba01877e9cee6b03524e01bf8c8637d3e64111215"
   }
  }
 },
 "nbformat": 4,
 "nbformat_minor": 5
}
