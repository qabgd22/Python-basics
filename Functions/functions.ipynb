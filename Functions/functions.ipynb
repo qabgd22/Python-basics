{
 "cells": [
  {
   "cell_type": "code",
   "execution_count": 57,
   "id": "b4f86751",
   "metadata": {},
   "outputs": [],
   "source": [
    "price_list = [456.88, 55.99, 999.99, 145.88]"
   ]
  },
  {
   "cell_type": "code",
   "execution_count": 58,
   "id": "7ec7af6b",
   "metadata": {},
   "outputs": [
    {
     "data": {
      "text/plain": [
       "999.99"
      ]
     },
     "execution_count": 58,
     "metadata": {},
     "output_type": "execute_result"
    }
   ],
   "source": [
    "max(price_list)"
   ]
  },
  {
   "cell_type": "code",
   "execution_count": 59,
   "id": "00ff204a",
   "metadata": {},
   "outputs": [],
   "source": [
    "def concatenator(s1, s2):\n",
    "    combined_string = s1 + ' ' +s2\n",
    "    return combined_string"
   ]
  },
  {
   "cell_type": "code",
   "execution_count": 60,
   "id": "94a65cc0",
   "metadata": {},
   "outputs": [
    {
     "data": {
      "text/plain": [
       "'Hello World!'"
      ]
     },
     "execution_count": 60,
     "metadata": {},
     "output_type": "execute_result"
    }
   ],
   "source": [
    "concatenator('Hello','World!')"
   ]
  },
  {
   "cell_type": "code",
   "execution_count": 61,
   "id": "f4210a81",
   "metadata": {},
   "outputs": [],
   "source": [
    "item_ratings = [\n",
    "    ['5 stars', '1 star', '3 stars'],\n",
    "    ['5 stars', '4 stars'],\n",
    "    ['1 star']\n",
    "]"
   ]
  },
  {
   "cell_type": "code",
   "execution_count": 62,
   "id": "40e20573",
   "metadata": {},
   "outputs": [],
   "source": [
    "def rating_cleaner(rating):\n",
    "    \"\"\"gets numeric portion from web rating\n",
    "    Args:\n",
    "        rating (str): text rating from web\n",
    "        \n",
    "    Returns:\n",
    "        int: integer portion of rating\n",
    "    \"\"\"\n",
    "    numeric_rating = int(rating[0])\n",
    "    return numeric_rating"
   ]
  },
  {
   "cell_type": "code",
   "execution_count": 63,
   "id": "b12db2fb",
   "metadata": {},
   "outputs": [
    {
     "data": {
      "text/plain": [
       "5"
      ]
     },
     "execution_count": 63,
     "metadata": {},
     "output_type": "execute_result"
    }
   ],
   "source": [
    "rating_cleaner('5 stars')"
   ]
  },
  {
   "cell_type": "code",
   "execution_count": 64,
   "id": "edf1344d",
   "metadata": {},
   "outputs": [
    {
     "name": "stdout",
     "output_type": "stream",
     "text": [
      "5 1 3 5 4 1 "
     ]
    }
   ],
   "source": [
    "for item in item_ratings:\n",
    "    for rating in item:\n",
    "        print(rating_cleaner(rating), end = ' ')"
   ]
  },
  {
   "cell_type": "code",
   "execution_count": 65,
   "id": "b8a58554",
   "metadata": {},
   "outputs": [],
   "source": [
    "def concat(*args):\n",
    "    new_string = ''\n",
    "    for arg in args:\n",
    "        new_string += (arg + ' ')\n",
    "    return new_string.rstrip()"
   ]
  },
  {
   "cell_type": "code",
   "execution_count": 66,
   "id": "f26658cf",
   "metadata": {},
   "outputs": [
    {
     "data": {
      "text/plain": [
       "'Hello world! How are you?'"
      ]
     },
     "execution_count": 66,
     "metadata": {},
     "output_type": "execute_result"
    }
   ],
   "source": [
    "concat('Hello','world!','How','are','you?')"
   ]
  },
  {
   "cell_type": "code",
   "execution_count": 67,
   "id": "99d3118b",
   "metadata": {},
   "outputs": [],
   "source": [
    "def concat2(**words):\n",
    "    new_string = ''\n",
    "    for word in words.values():\n",
    "        new_string += (word + ' ')\n",
    "    return new_string.rstrip()"
   ]
  },
  {
   "cell_type": "code",
   "execution_count": 68,
   "id": "a4752cfd",
   "metadata": {},
   "outputs": [
    {
     "data": {
      "text/plain": [
       "\"Hello there! What's up?\""
      ]
     },
     "execution_count": 68,
     "metadata": {},
     "output_type": "execute_result"
    }
   ],
   "source": [
    "concat2(a='Hello', b='there!', c=\"What's\", d='up?')"
   ]
  },
  {
   "cell_type": "code",
   "execution_count": 69,
   "id": "77f00d55",
   "metadata": {},
   "outputs": [],
   "source": [
    "def exponentiator(constant, base, exponent):\n",
    "    return constant * (base**exponent)"
   ]
  },
  {
   "cell_type": "code",
   "execution_count": 70,
   "id": "01988c13",
   "metadata": {},
   "outputs": [
    {
     "data": {
      "text/plain": [
       "18"
      ]
     },
     "execution_count": 70,
     "metadata": {},
     "output_type": "execute_result"
    }
   ],
   "source": [
    "param_dict = {'constant': 2, 'base': 3, 'exponent': 2}\n",
    "\n",
    "exponentiator(**param_dict)"
   ]
  },
  {
   "cell_type": "code",
   "execution_count": 71,
   "id": "15ea25af",
   "metadata": {},
   "outputs": [],
   "source": [
    "website_ratings = [\"5 stars\", \"1 star\", \"3 star\"]\n",
    "forum_ratings = [\"stars: 5\", \"stars: 4\", \"stars: 2\"]"
   ]
  },
  {
   "cell_type": "code",
   "execution_count": 72,
   "id": "55bb7b73",
   "metadata": {},
   "outputs": [],
   "source": [
    "def rate_cleaner(*ratings, index=0):\n",
    "    for rating in ratings:\n",
    "        num_rating = int(rating[index])\n",
    "        print(num_rating)"
   ]
  },
  {
   "cell_type": "code",
   "execution_count": 73,
   "id": "0102b338",
   "metadata": {},
   "outputs": [
    {
     "name": "stdout",
     "output_type": "stream",
     "text": [
      "5\n"
     ]
    }
   ],
   "source": [
    "rate_cleaner(\"5 stars\")"
   ]
  },
  {
   "cell_type": "code",
   "execution_count": 74,
   "id": "221b2aaa",
   "metadata": {},
   "outputs": [
    {
     "name": "stdout",
     "output_type": "stream",
     "text": [
      "5\n",
      "1\n",
      "3\n"
     ]
    }
   ],
   "source": [
    "rate_cleaner('5 stars', '1 star', '3 stars')"
   ]
  },
  {
   "cell_type": "code",
   "execution_count": 75,
   "id": "65e4af7f",
   "metadata": {},
   "outputs": [
    {
     "name": "stdout",
     "output_type": "stream",
     "text": [
      "5\n",
      "4\n",
      "2\n"
     ]
    }
   ],
   "source": [
    "rate_cleaner(*forum_ratings, index=-1)"
   ]
  },
  {
   "cell_type": "code",
   "execution_count": 76,
   "id": "f535a76c",
   "metadata": {},
   "outputs": [
    {
     "name": "stdout",
     "output_type": "stream",
     "text": [
      "5\n",
      "1\n",
      "3\n"
     ]
    }
   ],
   "source": [
    "rate_cleaner(*website_ratings)"
   ]
  },
  {
   "cell_type": "code",
   "execution_count": 77,
   "id": "e0f09cb6",
   "metadata": {},
   "outputs": [],
   "source": [
    "def concatenator2(*words):\n",
    "    sentence = ''\n",
    "    for word in words:\n",
    "        sentence += word + ' '\n",
    "    last_word = words[-1]\n",
    "    return sentence.rstrip(), last_word"
   ]
  },
  {
   "cell_type": "code",
   "execution_count": 78,
   "id": "9cf946a9",
   "metadata": {},
   "outputs": [
    {
     "data": {
      "text/plain": [
       "('Hello world! How are you?', 'you?')"
      ]
     },
     "execution_count": 78,
     "metadata": {},
     "output_type": "execute_result"
    }
   ],
   "source": [
    "concatenator2('Hello','world!','How','are','you?')"
   ]
  },
  {
   "cell_type": "code",
   "execution_count": 79,
   "id": "93bcd9a4",
   "metadata": {},
   "outputs": [
    {
     "name": "stdout",
     "output_type": "stream",
     "text": [
      "Hello world! How are you?\n",
      "you?\n"
     ]
    }
   ],
   "source": [
    "sentence, last_word= concatenator2('Hello','world!','How','are','you?')\n",
    "\n",
    "print(sentence)  \n",
    "print(last_word)"
   ]
  },
  {
   "cell_type": "code",
   "execution_count": 80,
   "id": "f87fd012",
   "metadata": {},
   "outputs": [],
   "source": [
    "def concatenator2(*words):\n",
    "    sentence = ''\n",
    "    for word in words:\n",
    "        sentence += word + ' '\n",
    "    last_word = words[-1]\n",
    "    return [sentence.rstrip(), last_word]"
   ]
  },
  {
   "cell_type": "code",
   "execution_count": 81,
   "id": "8b2d11db",
   "metadata": {},
   "outputs": [
    {
     "data": {
      "text/plain": [
       "['Hello world! How are you?', 'you?']"
      ]
     },
     "execution_count": 81,
     "metadata": {},
     "output_type": "execute_result"
    }
   ],
   "source": [
    "concatenator2('Hello','world!','How','are','you?')"
   ]
  },
  {
   "cell_type": "code",
   "execution_count": 82,
   "id": "914be9e7",
   "metadata": {},
   "outputs": [],
   "source": [
    "def concatenator2(*words):\n",
    "    sentence = ''\n",
    "    for word in words:\n",
    "        sentence += word + ' '\n",
    "    last_word = words[-1]\n",
    "    return {sentence.rstrip(), last_word}"
   ]
  },
  {
   "cell_type": "code",
   "execution_count": 83,
   "id": "c92a8b03",
   "metadata": {},
   "outputs": [
    {
     "data": {
      "text/plain": [
       "{'Hello world! How are you?', 'you?'}"
      ]
     },
     "execution_count": 83,
     "metadata": {},
     "output_type": "execute_result"
    }
   ],
   "source": [
    "concatenator2('Hello','world!','How','are','you?')"
   ]
  }
 ],
 "metadata": {
  "kernelspec": {
   "display_name": "Python 3 (ipykernel)",
   "language": "python",
   "name": "python3"
  },
  "language_info": {
   "codemirror_mode": {
    "name": "ipython",
    "version": 3
   },
   "file_extension": ".py",
   "mimetype": "text/x-python",
   "name": "python",
   "nbconvert_exporter": "python",
   "pygments_lexer": "ipython3",
   "version": "3.11.1"
  }
 },
 "nbformat": 4,
 "nbformat_minor": 5
}
