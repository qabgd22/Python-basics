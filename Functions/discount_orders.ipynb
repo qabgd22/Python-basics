{
 "cells": [
  {
   "cell_type": "code",
   "execution_count": 4,
   "id": "456c6f28",
   "metadata": {},
   "outputs": [],
   "source": [
    "subtotals = [15.98, 899.97, 799.97, 117.96, 5.99, 599.99]"
   ]
  },
  {
   "cell_type": "code",
   "execution_count": 5,
   "id": "34952a66",
   "metadata": {},
   "outputs": [],
   "source": [
    "# Apply a 10% discount for purchases greater than 500 usd\n",
    "\n",
    "discounted_subtotals = list(\n",
    "    map(\n",
    "        lambda x: round(x * 0.9, 2) if x > 500 else x, \n",
    "        subtotals)\n",
    ")"
   ]
  },
  {
   "cell_type": "code",
   "execution_count": 6,
   "id": "ab4cc120",
   "metadata": {},
   "outputs": [
    {
     "data": {
      "text/plain": [
       "[15.98, 809.97, 719.97, 117.96, 5.99, 539.99]"
      ]
     },
     "execution_count": 6,
     "metadata": {},
     "output_type": "execute_result"
    }
   ],
   "source": [
    "discounted_subtotals"
   ]
  }
 ],
 "metadata": {
  "kernelspec": {
   "display_name": "Python 3 (ipykernel)",
   "language": "python",
   "name": "python3"
  },
  "language_info": {
   "codemirror_mode": {
    "name": "ipython",
    "version": 3
   },
   "file_extension": ".py",
   "mimetype": "text/x-python",
   "name": "python",
   "nbconvert_exporter": "python",
   "pygments_lexer": "ipython3",
   "version": "3.11.1"
  }
 },
 "nbformat": 4,
 "nbformat_minor": 5
}
