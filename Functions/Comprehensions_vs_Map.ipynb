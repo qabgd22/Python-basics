{
 "cells": [
  {
   "cell_type": "code",
   "execution_count": 2,
   "id": "da455dd9",
   "metadata": {},
   "outputs": [],
   "source": [
    "def currency_coverter(price, exchange_rate=.88):\n",
    "    return(round(float(price) * exchange_rate, 2))"
   ]
  },
  {
   "cell_type": "code",
   "execution_count": 3,
   "id": "9409c1e5",
   "metadata": {},
   "outputs": [
    {
     "data": {
      "text/plain": [
       "[7.03, 14.07, 25.51, 0.0, 75.67, 105.59]"
      ]
     },
     "execution_count": 3,
     "metadata": {},
     "output_type": "execute_result"
    }
   ],
   "source": [
    "price_list = [7.99, 15.99, 28.99, 0, 85.99, 119.99]\n",
    "[currency_coverter(price) for price in price_list]"
   ]
  },
  {
   "cell_type": "code",
   "execution_count": 4,
   "id": "25e4d208",
   "metadata": {},
   "outputs": [
    {
     "data": {
      "text/plain": [
       "[7.03, 14.07, 25.51, 0.0, 75.67, 105.59]"
      ]
     },
     "execution_count": 4,
     "metadata": {},
     "output_type": "execute_result"
    }
   ],
   "source": [
    "list(map(currency_coverter, price_list))"
   ]
  },
  {
   "cell_type": "code",
   "execution_count": 5,
   "id": "e3f50876",
   "metadata": {},
   "outputs": [
    {
     "data": {
      "text/plain": [
       "[6.79, 13.59, 24.64, 0.0, 73.09, 101.99]"
      ]
     },
     "execution_count": 5,
     "metadata": {},
     "output_type": "execute_result"
    }
   ],
   "source": [
    "import functools\n",
    "\n",
    "list(map(functools.partial(currency_coverter,exchange_rate=.85), price_list))"
   ]
  },
  {
   "cell_type": "code",
   "execution_count": 6,
   "id": "594c55bf",
   "metadata": {},
   "outputs": [
    {
     "data": {
      "text/plain": [
       "{0: 1, 1: 2, 2: 3, 3: 4, 4: 5}"
      ]
     },
     "execution_count": 6,
     "metadata": {},
     "output_type": "execute_result"
    }
   ],
   "source": [
    "# Dictionary comprehension\n",
    "{x: x + 1 for x in range(5)}\n"
   ]
  }
 ],
 "metadata": {
  "kernelspec": {
   "display_name": "Python 3 (ipykernel)",
   "language": "python",
   "name": "python3"
  },
  "language_info": {
   "codemirror_mode": {
    "name": "ipython",
    "version": 3
   },
   "file_extension": ".py",
   "mimetype": "text/x-python",
   "name": "python",
   "nbconvert_exporter": "python",
   "pygments_lexer": "ipython3",
   "version": "3.11.1"
  }
 },
 "nbformat": 4,
 "nbformat_minor": 5
}
