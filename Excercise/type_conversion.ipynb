{
 "cells": [
  {
   "cell_type": "code",
   "execution_count": 1,
   "id": "61737b0f",
   "metadata": {},
   "outputs": [
    {
     "data": {
      "text/plain": [
       "float"
      ]
     },
     "execution_count": 1,
     "metadata": {},
     "output_type": "execute_result"
    }
   ],
   "source": [
    "number = 1.999\n",
    "type(number)"
   ]
  },
  {
   "cell_type": "code",
   "execution_count": 2,
   "id": "e7eecd75",
   "metadata": {},
   "outputs": [
    {
     "data": {
      "text/plain": [
       "(1, int)"
      ]
     },
     "execution_count": 2,
     "metadata": {},
     "output_type": "execute_result"
    }
   ],
   "source": [
    "fixed_number = int(number)\n",
    "fixed_number, type(fixed_number)"
   ]
  },
  {
   "cell_type": "code",
   "execution_count": 3,
   "id": "b0925da0",
   "metadata": {},
   "outputs": [
    {
     "data": {
      "text/plain": [
       "(1.0, float)"
      ]
     },
     "execution_count": 3,
     "metadata": {},
     "output_type": "execute_result"
    }
   ],
   "source": [
    "number = 1\n",
    "fixed_number = float(number)\n",
    "fixed_number, type(fixed_number)"
   ]
  },
  {
   "cell_type": "code",
   "execution_count": 4,
   "id": "d25c805f",
   "metadata": {},
   "outputs": [
    {
     "data": {
      "text/plain": [
       "(1.2, float)"
      ]
     },
     "execution_count": 4,
     "metadata": {},
     "output_type": "execute_result"
    }
   ],
   "source": [
    "text = '1.2'\n",
    "fixed_number = float(text)\n",
    "fixed_number, type(fixed_number)"
   ]
  },
  {
   "cell_type": "code",
   "execution_count": 5,
   "id": "ee219f1e",
   "metadata": {},
   "outputs": [
    {
     "data": {
      "text/plain": [
       "1.6666666666666667"
      ]
     },
     "execution_count": 5,
     "metadata": {},
     "output_type": "execute_result"
    }
   ],
   "source": [
    "5/3"
   ]
  },
  {
   "cell_type": "code",
   "execution_count": 6,
   "id": "3a694a78",
   "metadata": {},
   "outputs": [
    {
     "data": {
      "text/plain": [
       "1"
      ]
     },
     "execution_count": 6,
     "metadata": {},
     "output_type": "execute_result"
    }
   ],
   "source": [
    "5//3"
   ]
  },
  {
   "cell_type": "code",
   "execution_count": 7,
   "id": "07c40be8",
   "metadata": {},
   "outputs": [
    {
     "data": {
      "text/plain": [
       "2"
      ]
     },
     "execution_count": 7,
     "metadata": {},
     "output_type": "execute_result"
    }
   ],
   "source": [
    "5%3 # returns the reminder of division"
   ]
  },
  {
   "cell_type": "code",
   "execution_count": 8,
   "id": "5049beb5",
   "metadata": {},
   "outputs": [
    {
     "data": {
      "text/plain": [
       "125"
      ]
     },
     "execution_count": 8,
     "metadata": {},
     "output_type": "execute_result"
    }
   ],
   "source": [
    "5**3"
   ]
  },
  {
   "cell_type": "code",
   "execution_count": 9,
   "id": "8f4c08ff",
   "metadata": {},
   "outputs": [],
   "source": [
    "my_string = '3579'\n",
    "my_float = 3.579\n",
    "my_int = 3"
   ]
  },
  {
   "cell_type": "code",
   "execution_count": 10,
   "id": "c4bb1666",
   "metadata": {},
   "outputs": [
    {
     "data": {
      "text/plain": [
       "3579"
      ]
     },
     "execution_count": 10,
     "metadata": {},
     "output_type": "execute_result"
    }
   ],
   "source": [
    "int(my_string)"
   ]
  },
  {
   "cell_type": "code",
   "execution_count": 11,
   "id": "ead5e176",
   "metadata": {},
   "outputs": [
    {
     "data": {
      "text/plain": [
       "3"
      ]
     },
     "execution_count": 11,
     "metadata": {},
     "output_type": "execute_result"
    }
   ],
   "source": [
    "int(my_float)"
   ]
  },
  {
   "cell_type": "code",
   "execution_count": 12,
   "id": "efccdcd4",
   "metadata": {},
   "outputs": [
    {
     "data": {
      "text/plain": [
       "3579.0"
      ]
     },
     "execution_count": 12,
     "metadata": {},
     "output_type": "execute_result"
    }
   ],
   "source": [
    "float(my_string)"
   ]
  },
  {
   "cell_type": "code",
   "execution_count": 13,
   "id": "13c62811",
   "metadata": {},
   "outputs": [
    {
     "data": {
      "text/plain": [
       "3.0"
      ]
     },
     "execution_count": 13,
     "metadata": {},
     "output_type": "execute_result"
    }
   ],
   "source": [
    "float(my_int)"
   ]
  },
  {
   "cell_type": "code",
   "execution_count": 14,
   "id": "6b5c0a25",
   "metadata": {},
   "outputs": [
    {
     "data": {
      "text/plain": [
       "6.579000000000001"
      ]
     },
     "execution_count": 14,
     "metadata": {},
     "output_type": "execute_result"
    }
   ],
   "source": [
    "my_int + my_float"
   ]
  },
  {
   "cell_type": "code",
   "execution_count": 15,
   "id": "2a5a051a",
   "metadata": {},
   "outputs": [
    {
     "data": {
      "text/plain": [
       "-0.5790000000000002"
      ]
     },
     "execution_count": 15,
     "metadata": {},
     "output_type": "execute_result"
    }
   ],
   "source": [
    "my_int - my_float"
   ]
  },
  {
   "cell_type": "code",
   "execution_count": 16,
   "id": "fd16d9c6",
   "metadata": {},
   "outputs": [
    {
     "data": {
      "text/plain": [
       "0.5790000000000002"
      ]
     },
     "execution_count": 16,
     "metadata": {},
     "output_type": "execute_result"
    }
   ],
   "source": [
    "my_float - my_int"
   ]
  },
  {
   "cell_type": "code",
   "execution_count": 17,
   "id": "653bb341",
   "metadata": {},
   "outputs": [
    {
     "data": {
      "text/plain": [
       "10.737"
      ]
     },
     "execution_count": 17,
     "metadata": {},
     "output_type": "execute_result"
    }
   ],
   "source": [
    "my_int * my_float"
   ]
  },
  {
   "cell_type": "code",
   "execution_count": 18,
   "id": "d8265e7a",
   "metadata": {},
   "outputs": [
    {
     "data": {
      "text/plain": [
       "0.8382229673093042"
      ]
     },
     "execution_count": 18,
     "metadata": {},
     "output_type": "execute_result"
    }
   ],
   "source": [
    "my_int / my_float"
   ]
  },
  {
   "cell_type": "code",
   "execution_count": 19,
   "id": "ae393ac7",
   "metadata": {},
   "outputs": [
    {
     "data": {
      "text/plain": [
       "0.0"
      ]
     },
     "execution_count": 19,
     "metadata": {},
     "output_type": "execute_result"
    }
   ],
   "source": [
    "my_int // my_float"
   ]
  },
  {
   "cell_type": "code",
   "execution_count": 20,
   "id": "26dd9045",
   "metadata": {},
   "outputs": [
    {
     "data": {
      "text/plain": [
       "3.0"
      ]
     },
     "execution_count": 20,
     "metadata": {},
     "output_type": "execute_result"
    }
   ],
   "source": [
    "my_int % my_float"
   ]
  },
  {
   "cell_type": "code",
   "execution_count": 21,
   "id": "0838a457",
   "metadata": {},
   "outputs": [
    {
     "data": {
      "text/plain": [
       "51.00549546541933"
      ]
     },
     "execution_count": 21,
     "metadata": {},
     "output_type": "execute_result"
    }
   ],
   "source": [
    "my_int**my_float"
   ]
  },
  {
   "cell_type": "code",
   "execution_count": null,
   "id": "c95acf18",
   "metadata": {},
   "outputs": [],
   "source": []
  }
 ],
 "metadata": {
  "kernelspec": {
   "display_name": "Python 3 (ipykernel)",
   "language": "python",
   "name": "python3"
  },
  "language_info": {
   "codemirror_mode": {
    "name": "ipython",
    "version": 3
   },
   "file_extension": ".py",
   "mimetype": "text/x-python",
   "name": "python",
   "nbconvert_exporter": "python",
   "pygments_lexer": "ipython3",
   "version": "3.11.1"
  }
 },
 "nbformat": 4,
 "nbformat_minor": 5
}
